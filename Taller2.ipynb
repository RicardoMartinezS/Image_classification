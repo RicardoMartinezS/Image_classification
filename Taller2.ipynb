{
 "cells": [
  {
   "cell_type": "markdown",
   "id": "751fb512",
   "metadata": {},
   "source": [
    "## Taller 2"
   ]
  },
  {
   "cell_type": "markdown",
   "id": "fa88d533",
   "metadata": {},
   "source": [
    "### Import modules"
   ]
  },
  {
   "cell_type": "code",
   "execution_count": 1,
   "id": "39b314b7",
   "metadata": {},
   "outputs": [],
   "source": [
    "# Import modules from python standard library\n",
    "import os\n",
    "import pprint\n",
    "import random\n",
    "\n",
    "# Import Geopandas for vector analysis (https://geopandas.org)\n",
    "import geopandas\n",
    "\n",
    "# Import the matplotlib plotting module and set it to work within\n",
    "# a notebook environment.\n",
    "%matplotlib inline\n",
    "import matplotlib\n",
    "import matplotlib.colors as mcolors\n",
    "import matplotlib.pyplot as plt\n",
    "\n",
    "# Import the RSGISLib modules for the notebook\n",
    "import rsgislib\n",
    "import rsgislib.classification\n",
    "import rsgislib.classification.classsklearn\n",
    "import rsgislib.tools.filetools\n",
    "import rsgislib.tools.mapping\n",
    "import rsgislib.tools.plotting\n",
    "import rsgislib.vectorutils\n",
    "import rsgislib.zonalstats\n",
    "from sklearn.ensemble import RandomForestClassifier\n",
    "\n",
    "# scikit-learn imports\n",
    "from sklearn.model_selection import GridSearchCV"
   ]
  },
  {
   "cell_type": "markdown",
   "id": "b79a0351",
   "metadata": {},
   "source": [
    "Cargar imagen Sentinel-2"
   ]
  },
  {
   "cell_type": "code",
   "execution_count": null,
   "id": "b502a860",
   "metadata": {},
   "outputs": [],
   "source": [
    "# Input Sentinel-2 image file with 20 m resolution pixels.\n",
    "input_img = \"notebooks/Data_geoprocessing/data/sen2_20180629_t30uvd_orb037_osgb_stdsref_20m.tif\"\n",
    "\n",
    "# A valid pixel mask for the input image - this is required for later\n",
    "# steps but note that for this particular image all the pixel values\n",
    "# are valid (i.e., there aren't are no data regions).\n",
    "in_msk_img = \"notebooks/Data_geoprocessing/sen2_20180629_t30uvd_orb037_osgb_stdsref_20m_vmsk.tif\"\n",
    "\n",
    "vec_train_file = \"notebooks/Data_geoprocessing/aber_sen2_cls_training.gpkg\" #Datos verdaderos"
   ]
  }
 ],
 "metadata": {
  "kernelspec": {
   "display_name": "Python 3 (ipykernel)",
   "language": "python",
   "name": "python3"
  },
  "language_info": {
   "codemirror_mode": {
    "name": "ipython",
    "version": 3
   },
   "file_extension": ".py",
   "mimetype": "text/x-python",
   "name": "python",
   "nbconvert_exporter": "python",
   "pygments_lexer": "ipython3",
   "version": "3.11.9"
  }
 },
 "nbformat": 4,
 "nbformat_minor": 5
}
